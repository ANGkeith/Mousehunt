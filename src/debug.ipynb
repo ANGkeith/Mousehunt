{
 "cells": [
  {
   "cell_type": "code",
   "execution_count": 1,
   "metadata": {},
   "outputs": [],
   "source": [
    "from time import sleep\n",
    "\n",
    "from selenium import webdriver\n",
    "\n",
    "from MyBot.bot import Bot\n",
    "from MyBot.utils import noise_generator, get_current_time\n",
    "\n",
    "URL = \"https://www.mousehuntgame.com\"\n",
    "\n",
    "driver = webdriver.Firefox()\n",
    "driver.implicitly_wait(15)\n",
    "driver.get(URL)\n",
    "\n",
    "\n",
    "myBot = Bot(driver)"
   ]
  },
  {
   "cell_type": "markdown",
   "metadata": {},
   "source": [
    "Insert username and password below"
   ]
  },
  {
   "cell_type": "code",
   "execution_count": 29,
   "metadata": {},
   "outputs": [],
   "source": [
    "myBot.sign_in(\"username\", \"password\")"
   ]
  }
 ],
 "metadata": {
  "kernelspec": {
   "display_name": "Python 3",
   "language": "python",
   "name": "python3"
  },
  "language_info": {
   "codemirror_mode": {
    "name": "ipython",
    "version": 3
   },
   "file_extension": ".py",
   "mimetype": "text/x-python",
   "name": "python",
   "nbconvert_exporter": "python",
   "pygments_lexer": "ipython3",
   "version": "3.6.8"
  }
 },
 "nbformat": 4,
 "nbformat_minor": 2
}
